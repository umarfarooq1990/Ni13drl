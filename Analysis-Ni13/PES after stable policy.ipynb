{
 "cells": [
  {
   "cell_type": "code",
   "execution_count": 29,
   "id": "f4a87d97-7b5a-443b-a675-d5970ea28e1a",
   "metadata": {},
   "outputs": [],
   "source": [
    "import glob\n",
    "import sys\n",
    "sys.path.append('/root/apps/Clusgym_DRL-Ag6Pd5Cu4')\n",
    "from generate_descriptors import Generate_acsf_descriptor, Generate_soap_descriptor\n",
    "import matplotlib.pyplot as plt\n",
    "import seaborn as sns\n",
    "from asap3 import EMT\n",
    "import numpy as np\n",
    "import os"
   ]
  },
  {
   "cell_type": "code",
   "execution_count": 30,
   "id": "4401f574-1709-4188-a86c-b5bd0abf8895",
   "metadata": {},
   "outputs": [
    {
     "name": "stdout",
     "output_type": "stream",
     "text": [
      "0 ../Ni13/result_Ni13/trajs/11923_-1.928505_15.816803_3107.419083_5_5_26_full.traj\n"
     ]
    }
   ],
   "source": [
    "#save_path = os.path.join(self.traj_dir, '%d_%f_%f_%f_%d_%d_%d_full.traj' %(self.episodes, self.minima['energies'][self.min_idx], self.initial_energy, self.episode_reward, self.n_tot_all_minima, self.n_lower_energy_minima, self.n_unique_minima))\n",
    "\n",
    "for i, file in enumerate(glob.glob('../Ni13/result_Ni13/trajs/11923_-1.928505_15.816803_3107.419083_5_5_26_full.traj')):\n",
    "    print(i, file)"
   ]
  },
  {
   "cell_type": "code",
   "execution_count": 31,
   "id": "65449fc1-6d7b-4be8-a7cb-3c7893bb7654",
   "metadata": {},
   "outputs": [],
   "source": [
    "def generate_traj_plot(fname, cif = True):\n",
    "    traj = Trajectory(fname)\n",
    "    print(len(traj))\n",
    "    ene_list = []\n",
    "    \n",
    "    cif_dir = f'../Ni13/result_Ni13/cifs/'\n",
    "    if not os.path.exists(cif_dir):\n",
    "            os.makedirs(cif_dir)\n",
    "\n",
    "    for i in range(len(traj)):\n",
    "        img =  traj[i]\n",
    "        img.calc = EMT()\n",
    "        if i == 0:\n",
    "            initial_energy = img.get_potential_energy()\n",
    "    \n",
    "        ene = img.get_potential_energy() - initial_energy\n",
    "        print(i, ene)\n",
    "        ene_list.append(ene)\n",
    "\n",
    "        if cif == True:\n",
    "            fname_split_list =  fname.split('/')\n",
    "            #print(fname_split_list)\n",
    "            cif_fname =  fname_split_list[0] + '/'+ fname_split_list[1] + '/cifs/' +   fname_split_list[2].split('full.traj')[0] +   str(i).zfill(3) +  '_'  + \"{:.4f}\".format(ene) + '.cif'\n",
    "            #print(cif_fname)\n",
    "            write(cif_fname, img, format='cif')\n",
    "\n",
    "    n = len(ene_list)\n",
    "    plt.figure()\n",
    "    plt.plot(ene_list)\n",
    "    plt.xlabel('episode time steps')\n",
    "    plt.ylabel('$\\Delta$ G (eV)')\n",
    "    #plt.xlim([-1, n])\n",
    "    # Set x-axis ticks to integer values\n",
    "    #plt.xticks(np.arange(0, n+1, 2))  # Ticks from 0 to 10 at intervals of 1\n",
    "\n",
    "    plt.show()\n",
    "    \n",
    "\n",
    "    \n",
    "    return None"
   ]
  },
  {
   "cell_type": "code",
   "execution_count": 32,
   "id": "0e8d60a8-dd30-4166-bd9d-c9e735f03a14",
   "metadata": {},
   "outputs": [],
   "source": [
    "from ase.io.trajectory import Trajectory"
   ]
  },
  {
   "cell_type": "code",
   "execution_count": 33,
   "id": "442d4c48",
   "metadata": {},
   "outputs": [
    {
     "name": "stdout",
     "output_type": "stream",
     "text": [
      "0 ../Ni13/result_Ni13/trajs/11923_-1.928505_15.816803_3107.419083_5_5_26_full.traj\n",
      "6\n",
      "0 0.0\n",
      "1 -0.2955746840617266\n",
      "2 -0.16396825866945974\n",
      "3 -0.7141804539132046\n",
      "4 -0.3505600301218781\n",
      "5 -2.019578570024528\n"
     ]
    },
    {
     "data": {
      "image/png": "[encoded data removed]",
      "text/plain": [
       "<Figure size 640x480 with 1 Axes>"
      ]
     },
     "metadata": {},
     "output_type": "display_data"
    }
   ],
   "source": [
    "\n",
    "# Define the folder path and the specific trajectory file name\n",
    "folder_path = '../Ni13/result_Ni13/trajs/'\n",
    "reg_selection = '11923_-1.928505_15.816803_3107.419083_5_5_26_full.traj'\n",
    "\n",
    "# Construct the full path to the trajectory file\n",
    "traj_file_path = folder_path + reg_selection\n",
    "\n",
    "# Use glob to find the file\n",
    "for i, file in enumerate(glob.glob(traj_file_path)):\n",
    "    print(i, file)\n",
    "    generate_traj_plot(file, cif=False)"
   ]
  },
  {
   "cell_type": "code",
   "execution_count": 34,
   "id": "b0592dd2-3337-457d-a30f-f185c11858a3",
   "metadata": {},
   "outputs": [],
   "source": [
    "folder_path = '../Ni13/result_Ni13/trajs/'\n",
    "reg_selection = '11923_-1.928505_15.816803_3107.419083_5_5_26_full.traj'\n",
    "extension = '.traj'\n",
    "traj_file_path = folder_path + reg_selection + '.traj'\n",
    "for i, file in enumerate(glob.glob(traj_file_path)):\n",
    "    print(i, file)\n",
    "    generate_traj_plot(file, cif = False)"
   ]
  },
  {
   "cell_type": "code",
   "execution_count": 35,
   "id": "5c186743-ab7f-4307-904f-e50f85673976",
   "metadata": {},
   "outputs": [
    {
     "name": "stdout",
     "output_type": "stream",
     "text": [
      "Number of frames: 6\n",
      "Frame 1:\n",
      "Atoms(symbols='Ni13', pbc=True, cell=[23.87729039585332, 21.468742171337247, 24.14185557786715], calculator=SinglePointCalculator(...))\n",
      "Frame 2:\n",
      "Atoms(symbols='Ni13', pbc=True, cell=[23.87729039585332, 21.468742171337247, 24.14185557786715], calculator=SinglePointCalculator(...))\n",
      "Frame 3:\n",
      "Atoms(symbols='Ni13', pbc=True, cell=[23.87729039585332, 21.468742171337247, 24.14185557786715], calculator=SinglePointCalculator(...))\n",
      "Frame 4:\n",
      "Atoms(symbols='Ni13', pbc=True, cell=[23.87729039585332, 21.468742171337247, 24.14185557786715], calculator=SinglePointCalculator(...))\n",
      "Frame 5:\n",
      "Atoms(symbols='Ni13', pbc=True, cell=[23.87729039585332, 21.468742171337247, 24.14185557786715], calculator=SinglePointCalculator(...))\n",
      "Frame 6:\n",
      "Atoms(symbols='Ni13', pbc=True, cell=[23.87729039585332, 21.468742171337247, 24.14185557786715], calculator=SinglePointCalculator(...))\n"
     ]
    }
   ],
   "source": [
    "from ase.io import Trajectory\n",
    "\n",
    "# Path to your .traj file\n",
    "traj_file = '../Ni13/result_Ni13/trajs/11923_-1.928505_15.816803_3107.419083_5_5_26_full.traj'\n",
    "\n",
    "# Open the .traj file\n",
    "traj = Trajectory(traj_file)\n",
    "\n",
    "# Print the number of frames in the trajectory\n",
    "print(f\"Number of frames: {len(traj)}\")\n",
    "\n",
    "# Access all frames and print atomic information\n",
    "for i, frame in enumerate(traj):\n",
    "    print(f\"Frame {i + 1}:\")\n",
    "    print(frame)"
   ]
  },
  {
   "cell_type": "code",
   "execution_count": 36,
   "id": "6df80f3c-f4bd-4559-8116-6822a281823c",
   "metadata": {},
   "outputs": [
    {
     "name": "stdout",
     "output_type": "stream",
     "text": [
      "Frame 1 atomic positions:\n",
      "[[10.95805476  8.88137817 13.75271215]\n",
      " [10.6236875  10.98993416 15.07477144]\n",
      " [14.36271486 12.24032496 13.36283413]\n",
      " [ 8.83673     9.96347091 13.87977074]\n",
      " [12.71810794 10.51818316 13.96669323]\n",
      " [11.91376764 12.75612646 13.90514408]\n",
      " [14.62112799  9.9213384  12.67401731]\n",
      " [10.60450587 11.01599566 12.64022188]\n",
      " [14.84121661 11.49822897 10.9048921 ]\n",
      " [12.65916546 11.87123392 11.77934597]\n",
      " [12.3776667   9.45080695 11.7701672 ]\n",
      " [14.42730023  9.12719025 10.43259972]\n",
      " [12.83414292 10.70939698  9.70511669]]\n",
      "Frame 2 atomic positions:\n",
      "[[11.08416696  8.73647785 13.81951444]\n",
      " [10.98188721 10.54848364 15.52091978]\n",
      " [14.38086164 12.09356623 13.50767881]\n",
      " [10.58201405 10.98118087 13.2079763 ]\n",
      " [12.86984307 10.30184113 14.08703087]\n",
      " [12.07185137 12.51440173 14.43392918]\n",
      " [14.68526634  9.78806839 12.64910096]\n",
      " [10.56019649 10.91894505 10.82702524]\n",
      " [14.65160169 11.59406897 11.09861569]\n",
      " [12.46575826 11.962319   12.0675646 ]\n",
      " [12.33282834  9.56749809 11.82627292]\n",
      " [14.26506178  9.29609654 10.34547025]\n",
      " [12.69947305 11.01270057  9.80191703]]\n",
      "Frame 3 atomic positions:\n",
      "[[10.95658068  8.68652589 13.83122487]\n",
      " [10.88030733 10.49200199 15.48429423]\n",
      " [13.33891801 11.6125921  12.57810119]\n",
      " [10.85777822 10.97087577 13.12358146]\n",
      " [12.917308   10.00078046 14.31709168]\n",
      " [12.15482637 12.35824134 14.54140257]\n",
      " [14.66422975  9.55133852 12.64706136]\n",
      " [10.55427603 10.64420976 10.76856062]\n",
      " [15.12682923 11.25456662 10.98970573]\n",
      " [11.45918358 12.74271682 11.64207085]\n",
      " [12.33250924  9.45170108 11.93270782]\n",
      " [14.11279735  9.19318553 10.31849005]\n",
      " [12.81360025 11.23493841 10.24109463]]\n",
      "Frame 4 atomic positions:\n",
      "[[10.54300247  8.96240172 13.28142646]\n",
      " [11.23392318 10.37574844 15.20055969]\n",
      " [13.90950619 12.24577936 12.57124134]\n",
      " [10.01845262 11.39152018 13.40681843]\n",
      " [12.31460236 10.52176462 13.07768529]\n",
      " [12.04221595 12.53845387 14.29629586]\n",
      " [14.48318208  9.80527404 12.41589309]\n",
      " [10.62106264 10.34962018 11.27938329]\n",
      " [15.29149197 11.32097185 10.74939571]\n",
      " [11.54795414 12.5671818  11.90980869]\n",
      " [12.41626869  8.67198394 11.54853136]\n",
      " [14.38017584  9.13414637 10.12135265]\n",
      " [12.91992831 10.94489754 10.71436971]]\n",
      "Frame 5 atomic positions:\n",
      "[[11.21320694  8.46967836 13.55134951]\n",
      " [10.71409053 10.46774408 14.79166241]\n",
      " [13.63947323 11.70394929 12.44251763]\n",
      " [ 9.86457436 12.31145709 13.38320746]\n",
      " [13.06581774  9.97476113 14.02373796]\n",
      " [12.1215348  12.31498307 14.17453061]\n",
      " [15.00116984  9.75688693 12.28728624]\n",
      " [11.29849417 10.64097599 12.43900389]\n",
      " [15.03430388 11.46244403 10.51287696]\n",
      " [11.64770572 12.90595195 11.78657126]\n",
      " [12.8274658   8.91309787 11.79484605]\n",
      " [14.35795445  9.25958007  9.98227526]\n",
      " [12.6382696  10.95666626 10.40642142]]\n",
      "Frame 6 atomic positions:\n",
      "[[12.38190283  8.56562837 13.12337342]\n",
      " [11.00361016 10.34404885 14.21187761]\n",
      " [14.53053885 11.98986196 13.12605574]\n",
      " [10.54074294 12.11263415 12.50731809]\n",
      " [13.47322102 10.26326169 14.58930726]\n",
      " [12.33129007 12.45756691 14.21314037]\n",
      " [14.56321191  9.58578563 12.44639049]\n",
      " [10.56681948  9.7057846  11.83751937]\n",
      " [14.09771771 11.35074891 10.7489645 ]\n",
      " [12.72088931 13.12746576 11.83717578]\n",
      " [12.55082379 10.84655328 12.48035631]\n",
      " [12.76438416  9.23297835 10.74848111]\n",
      " [11.63129467 11.42409378 10.36820008]]\n"
     ]
    }
   ],
   "source": [
    "for i, frame in enumerate(traj):\n",
    "    print(f\"Frame {i + 1} atomic positions:\")\n",
    "    print(frame.positions)"
   ]
  },
  {
   "cell_type": "code",
   "execution_count": 37,
   "id": "e18b8924-eeb9-4a46-8b30-3e7391eea4c5",
   "metadata": {},
   "outputs": [
    {
     "name": "stdout",
     "output_type": "stream",
     "text": [
      "Potential energy: 15.905448545738718 eV\n",
      "Potential energy: 15.605924199246799 eV\n",
      "Potential energy: 15.734497382049287 eV\n",
      "Potential energy: 15.191821567251019 eV\n",
      "Potential energy: 15.55605632469036 eV\n",
      "Potential energy: 13.888298304927257 eV\n"
     ]
    }
   ],
   "source": [
    "from ase.calculators.emt import EMT\n",
    "\n",
    "# Assign a calculator to each frame\n",
    "for frame in traj:\n",
    "    frame.calc = EMT()  # Example: EMT calculator\n",
    "    print(f\"Potential energy: {frame.get_potential_energy()} eV\")"
   ]
  }
 ],
 "metadata": {
  "kernelspec": {
   "display_name": "clusgym",
   "language": "python",
   "name": "python3"
  },
  "language_info": {
   "codemirror_mode": {
    "name": "ipython",
    "version": 3
   },
   "file_extension": ".py",
   "mimetype": "text/x-python",
   "name": "python",
   "nbconvert_exporter": "python",
   "pygments_lexer": "ipython3",
   "version": "3.10.13"
  }
 },
 "nbformat": 4,
 "nbformat_minor": 5
}
